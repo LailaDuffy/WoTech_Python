{
  "nbformat": 4,
  "nbformat_minor": 0,
  "metadata": {
    "colab": {
      "provenance": [],
      "authorship_tag": "ABX9TyPBqYi8b3T3nNy54bQQCLcM",
      "include_colab_link": true
    },
    "kernelspec": {
      "name": "python3",
      "display_name": "Python 3"
    },
    "language_info": {
      "name": "python"
    }
  },
  "cells": [
    {
      "cell_type": "markdown",
      "metadata": {
        "id": "view-in-github",
        "colab_type": "text"
      },
      "source": [
        "<a href=\"https://colab.research.google.com/github/LailaDuffy/WoTech_Python/blob/main/WoTech_Python_Lesson24.ipynb\" target=\"_parent\"><img src=\"https://colab.research.google.com/assets/colab-badge.svg\" alt=\"Open In Colab\"/></a>"
      ]
    },
    {
      "cell_type": "markdown",
      "source": [
        "# RegEx"
      ],
      "metadata": {
        "id": "xCo5zDNflJBf"
      }
    },
    {
      "cell_type": "code",
      "source": [
        "import re # regualr expression module"
      ],
      "metadata": {
        "id": "eNk0p3yzmtEL"
      },
      "execution_count": 4,
      "outputs": []
    },
    {
      "cell_type": "code",
      "execution_count": 2,
      "metadata": {
        "colab": {
          "base_uri": "https://localhost:8080/",
          "height": 35
        },
        "id": "JvAJP4FOfNLj",
        "outputId": "23d2b9d6-c5af-4c73-dfb1-f1b84cb4374d"
      },
      "outputs": [
        {
          "output_type": "execute_result",
          "data": {
            "text/plain": [
              "'\\nAlice: 555-123-4567\\nBob: 333-987-6543\\nCharlie: 777-555-88\\n'"
            ],
            "application/vnd.google.colaboratory.intrinsic+json": {
              "type": "string"
            }
          },
          "metadata": {},
          "execution_count": 2
        }
      ],
      "source": [
        "text = \"\"\"\n",
        "Alice: 555-123-4567\n",
        "Bob: 333-987-6543\n",
        "Charlie: 777-555-88\n",
        "\"\"\"\n",
        "text"
      ]
    },
    {
      "cell_type": "code",
      "source": [
        "# re.search - first occurance of a pattern\n",
        "# re.findall - finds all occurances\n",
        "# re.IGNORECASE - pattern matching IS NOT case sensitive"
      ],
      "metadata": {
        "id": "kCpkHx9elc9M"
      },
      "execution_count": null,
      "outputs": []
    },
    {
      "cell_type": "code",
      "source": [
        "# correct format is 3-3-4\n",
        "\n",
        "pattern = r'\\d{3}-\\d{3}-\\d{4}'\n",
        "matches = re.findall(pattern, text)\n",
        "print(matches)"
      ],
      "metadata": {
        "colab": {
          "base_uri": "https://localhost:8080/"
        },
        "id": "fKKQVES2luao",
        "outputId": "1fde80a6-13ce-41be-b681-915949f62c3a"
      },
      "execution_count": 6,
      "outputs": [
        {
          "output_type": "stream",
          "name": "stdout",
          "text": [
            "['555-123-4567', '333-987-6543']\n"
          ]
        }
      ]
    },
    {
      "cell_type": "markdown",
      "source": [
        "## Dates pattern matching"
      ],
      "metadata": {
        "id": "eeAx-TVwpzFV"
      }
    },
    {
      "cell_type": "code",
      "source": [
        "dates = \"\"\"\n",
        "My dates are: 05-10-2024 and 2022-10-05\n",
        "\"\"\"\n",
        "pattern2 = r'\\d{4}-\\d{2}-\\d{2}'\n",
        "match2 = re.findall(pattern2, dates)\n",
        "match2\n"
      ],
      "metadata": {
        "colab": {
          "base_uri": "https://localhost:8080/"
        },
        "id": "L1id6cl8pyI5",
        "outputId": "41685067-253a-4e34-e0d2-e85d2bd374a8"
      },
      "execution_count": 14,
      "outputs": [
        {
          "output_type": "execute_result",
          "data": {
            "text/plain": [
              "['2022-10-05']"
            ]
          },
          "metadata": {},
          "execution_count": 14
        }
      ]
    },
    {
      "cell_type": "markdown",
      "source": [
        "## E-mail addresses matching"
      ],
      "metadata": {
        "id": "7GUXWroir0Ts"
      }
    },
    {
      "cell_type": "code",
      "source": [
        "emails = \"\"\"\n",
        "Emails: liza@example.com, roberta@gmail.com, info@company.net\n",
        "\"\"\"\n",
        "pattern3 = r'\\b[A-Za-z0-9._%+-]+@[A-Za-z0-9.-]+\\.[A-Z|a-z]{2,}\\b'\n",
        "matches3 = re.findall(pattern3, emails)\n",
        "print(matches3)"
      ],
      "metadata": {
        "colab": {
          "base_uri": "https://localhost:8080/"
        },
        "id": "gaV2MfaXrwHB",
        "outputId": "0b1c726c-7c3e-49eb-ee84-2946b50ca5b0"
      },
      "execution_count": 15,
      "outputs": [
        {
          "output_type": "stream",
          "name": "stdout",
          "text": [
            "['liza@example.com', 'roberta@gmail.com', 'info@company.net']\n"
          ]
        }
      ]
    }
  ]
}