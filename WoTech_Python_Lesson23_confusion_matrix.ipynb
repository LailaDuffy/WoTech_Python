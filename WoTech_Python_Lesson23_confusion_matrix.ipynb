{
  "cells": [
    {
      "cell_type": "markdown",
      "metadata": {
        "id": "view-in-github",
        "colab_type": "text"
      },
      "source": [
        "<a href=\"https://colab.research.google.com/github/LailaDuffy/WoTech_Python/blob/main/WoTech_Python_Lesson23_confusion_matrix.ipynb\" target=\"_parent\"><img src=\"https://colab.research.google.com/assets/colab-badge.svg\" alt=\"Open In Colab\"/></a>"
      ]
    },
    {
      "cell_type": "markdown",
      "metadata": {
        "id": "Kum2WW7a0zr8"
      },
      "source": [
        "### DATA EXTRACTION"
      ]
    },
    {
      "cell_type": "code",
      "execution_count": 1,
      "metadata": {
        "id": "ZWNXuEu8xe3h"
      },
      "outputs": [],
      "source": [
        "import seaborn as sns\n",
        "import pandas as pd\n",
        "\n",
        "titanic_data = sns.load_dataset('titanic')"
      ]
    },
    {
      "cell_type": "markdown",
      "metadata": {
        "id": "qO9_0RaU0zsF"
      },
      "source": [
        "### DATA REVIEW"
      ]
    },
    {
      "cell_type": "code",
      "execution_count": 2,
      "metadata": {
        "colab": {
          "base_uri": "https://localhost:8080/",
          "height": 572
        },
        "id": "vxjSa7itzhNL",
        "outputId": "54f1aa20-caaa-4a00-c66a-408e699a5561"
      },
      "outputs": [
        {
          "output_type": "stream",
          "name": "stdout",
          "text": [
            "Number of passangers: 891\n"
          ]
        },
        {
          "output_type": "execute_result",
          "data": {
            "text/plain": [
              "survived         0\n",
              "pclass           0\n",
              "sex              0\n",
              "age            177\n",
              "sibsp            0\n",
              "parch            0\n",
              "fare             0\n",
              "embarked         2\n",
              "class            0\n",
              "who              0\n",
              "adult_male       0\n",
              "deck           688\n",
              "embark_town      2\n",
              "alive            0\n",
              "alone            0\n",
              "dtype: int64"
            ],
            "text/html": [
              "<div>\n",
              "<style scoped>\n",
              "    .dataframe tbody tr th:only-of-type {\n",
              "        vertical-align: middle;\n",
              "    }\n",
              "\n",
              "    .dataframe tbody tr th {\n",
              "        vertical-align: top;\n",
              "    }\n",
              "\n",
              "    .dataframe thead th {\n",
              "        text-align: right;\n",
              "    }\n",
              "</style>\n",
              "<table border=\"1\" class=\"dataframe\">\n",
              "  <thead>\n",
              "    <tr style=\"text-align: right;\">\n",
              "      <th></th>\n",
              "      <th>0</th>\n",
              "    </tr>\n",
              "  </thead>\n",
              "  <tbody>\n",
              "    <tr>\n",
              "      <th>survived</th>\n",
              "      <td>0</td>\n",
              "    </tr>\n",
              "    <tr>\n",
              "      <th>pclass</th>\n",
              "      <td>0</td>\n",
              "    </tr>\n",
              "    <tr>\n",
              "      <th>sex</th>\n",
              "      <td>0</td>\n",
              "    </tr>\n",
              "    <tr>\n",
              "      <th>age</th>\n",
              "      <td>177</td>\n",
              "    </tr>\n",
              "    <tr>\n",
              "      <th>sibsp</th>\n",
              "      <td>0</td>\n",
              "    </tr>\n",
              "    <tr>\n",
              "      <th>parch</th>\n",
              "      <td>0</td>\n",
              "    </tr>\n",
              "    <tr>\n",
              "      <th>fare</th>\n",
              "      <td>0</td>\n",
              "    </tr>\n",
              "    <tr>\n",
              "      <th>embarked</th>\n",
              "      <td>2</td>\n",
              "    </tr>\n",
              "    <tr>\n",
              "      <th>class</th>\n",
              "      <td>0</td>\n",
              "    </tr>\n",
              "    <tr>\n",
              "      <th>who</th>\n",
              "      <td>0</td>\n",
              "    </tr>\n",
              "    <tr>\n",
              "      <th>adult_male</th>\n",
              "      <td>0</td>\n",
              "    </tr>\n",
              "    <tr>\n",
              "      <th>deck</th>\n",
              "      <td>688</td>\n",
              "    </tr>\n",
              "    <tr>\n",
              "      <th>embark_town</th>\n",
              "      <td>2</td>\n",
              "    </tr>\n",
              "    <tr>\n",
              "      <th>alive</th>\n",
              "      <td>0</td>\n",
              "    </tr>\n",
              "    <tr>\n",
              "      <th>alone</th>\n",
              "      <td>0</td>\n",
              "    </tr>\n",
              "  </tbody>\n",
              "</table>\n",
              "</div><br><label><b>dtype:</b> int64</label>"
            ]
          },
          "metadata": {},
          "execution_count": 2
        }
      ],
      "source": [
        "print(\"Number of passangers:\",len(titanic_data))\n",
        "titanic_data.columns\n",
        "titanic_data.dtypes\n",
        "\n",
        "titanic_data['class'].unique()\n",
        "\n",
        "titanic_data.isnull().sum()"
      ]
    },
    {
      "cell_type": "markdown",
      "metadata": {
        "id": "obYkA6270zsI"
      },
      "source": [
        "### DATA TRANSFORMATION"
      ]
    },
    {
      "cell_type": "code",
      "execution_count": 3,
      "metadata": {
        "colab": {
          "base_uri": "https://localhost:8080/"
        },
        "id": "tngrwfgc5x6u",
        "outputId": "d49a8e56-0fa1-4923-b1b2-8449ecc11d3e"
      },
      "outputs": [
        {
          "output_type": "execute_result",
          "data": {
            "text/plain": [
              "array(['Southampton', 'Cherbourg', 'Queenstown', 0], dtype=object)"
            ]
          },
          "metadata": {},
          "execution_count": 3
        }
      ],
      "source": [
        "titanic_data['deck'] = titanic_data['deck'].astype(str)\n",
        "titanic_data['class'] = titanic_data['class'].astype(str)\n",
        "titanic_data.fillna(0, inplace=True)\n",
        "titanic_data.drop(['alive', 'alone', 'adult_male', 'deck'], axis=1, inplace=True)\n",
        "\n",
        "titanic_data.isnull().sum()\n",
        "\n",
        "titanic_data['embark_town'].unique()"
      ]
    },
    {
      "cell_type": "code",
      "execution_count": 4,
      "metadata": {
        "id": "re6LNhWt0zsK"
      },
      "outputs": [],
      "source": [
        "# Mapping for embark_town\n",
        "embark_town_mapping = {'Southampton': 1, 'Cherbourg': 2, 'Queenstown': 3, 0:0}\n",
        "titanic_data['embark_town'] = titanic_data['embark_town'].map(embark_town_mapping)\n",
        "\n",
        "# Mapping for sex\n",
        "sex_mapping = {'male': 0, 'female': 1}\n",
        "titanic_data['sex'] = titanic_data['sex'].map(sex_mapping)\n",
        "\n",
        "# Mapping for embarked\n",
        "embarked_mapping = {'S': 1, 'C': 2, 'Q': 3, 0 : 0}\n",
        "titanic_data['embarked'] = titanic_data['embarked'].map(embarked_mapping)\n",
        "\n",
        "# Mapping for class\n",
        "class_mapping = {'Third': 1, 'First': 2, 'Second': 3}\n",
        "titanic_data['class'] = titanic_data['class'].map(class_mapping)\n",
        "\n",
        "# Mapping for who\n",
        "who_mapping = {'man': 1, 'woman': 2, 'child': 3}\n",
        "titanic_data['who'] = titanic_data['who'].map(who_mapping)\n"
      ]
    },
    {
      "cell_type": "code",
      "execution_count": 5,
      "metadata": {
        "colab": {
          "base_uri": "https://localhost:8080/",
          "height": 429
        },
        "id": "kro9viXm0zsL",
        "outputId": "4718baca-a820-4727-fd47-9e9538aba44a"
      },
      "outputs": [
        {
          "output_type": "execute_result",
          "data": {
            "text/plain": [
              "survived       0\n",
              "pclass         0\n",
              "sex            0\n",
              "age            0\n",
              "sibsp          0\n",
              "parch          0\n",
              "fare           0\n",
              "embarked       0\n",
              "class          0\n",
              "who            0\n",
              "embark_town    0\n",
              "dtype: int64"
            ],
            "text/html": [
              "<div>\n",
              "<style scoped>\n",
              "    .dataframe tbody tr th:only-of-type {\n",
              "        vertical-align: middle;\n",
              "    }\n",
              "\n",
              "    .dataframe tbody tr th {\n",
              "        vertical-align: top;\n",
              "    }\n",
              "\n",
              "    .dataframe thead th {\n",
              "        text-align: right;\n",
              "    }\n",
              "</style>\n",
              "<table border=\"1\" class=\"dataframe\">\n",
              "  <thead>\n",
              "    <tr style=\"text-align: right;\">\n",
              "      <th></th>\n",
              "      <th>0</th>\n",
              "    </tr>\n",
              "  </thead>\n",
              "  <tbody>\n",
              "    <tr>\n",
              "      <th>survived</th>\n",
              "      <td>0</td>\n",
              "    </tr>\n",
              "    <tr>\n",
              "      <th>pclass</th>\n",
              "      <td>0</td>\n",
              "    </tr>\n",
              "    <tr>\n",
              "      <th>sex</th>\n",
              "      <td>0</td>\n",
              "    </tr>\n",
              "    <tr>\n",
              "      <th>age</th>\n",
              "      <td>0</td>\n",
              "    </tr>\n",
              "    <tr>\n",
              "      <th>sibsp</th>\n",
              "      <td>0</td>\n",
              "    </tr>\n",
              "    <tr>\n",
              "      <th>parch</th>\n",
              "      <td>0</td>\n",
              "    </tr>\n",
              "    <tr>\n",
              "      <th>fare</th>\n",
              "      <td>0</td>\n",
              "    </tr>\n",
              "    <tr>\n",
              "      <th>embarked</th>\n",
              "      <td>0</td>\n",
              "    </tr>\n",
              "    <tr>\n",
              "      <th>class</th>\n",
              "      <td>0</td>\n",
              "    </tr>\n",
              "    <tr>\n",
              "      <th>who</th>\n",
              "      <td>0</td>\n",
              "    </tr>\n",
              "    <tr>\n",
              "      <th>embark_town</th>\n",
              "      <td>0</td>\n",
              "    </tr>\n",
              "  </tbody>\n",
              "</table>\n",
              "</div><br><label><b>dtype:</b> int64</label>"
            ]
          },
          "metadata": {},
          "execution_count": 5
        }
      ],
      "source": [
        "titanic_data.isnull().sum() #NO MORE EMPTY VALUES"
      ]
    },
    {
      "cell_type": "markdown",
      "metadata": {
        "id": "vyyRSWAnu7HF"
      },
      "source": [
        "### TRAIN AND TEST SPLIT"
      ]
    },
    {
      "cell_type": "code",
      "execution_count": 6,
      "metadata": {
        "id": "9TPF6TNuu7HF"
      },
      "outputs": [],
      "source": [
        "from sklearn.model_selection import train_test_split"
      ]
    },
    {
      "cell_type": "code",
      "execution_count": 7,
      "metadata": {
        "id": "2O9F4W5ou7HG"
      },
      "outputs": [],
      "source": [
        "X = titanic_data.drop('survived', axis=1) #Independent variables\n",
        "y = titanic_data['survived'] #Dependent variable"
      ]
    },
    {
      "cell_type": "code",
      "execution_count": 8,
      "metadata": {
        "id": "cGN4iWpGu7HG"
      },
      "outputs": [],
      "source": [
        "X_train, X_test, y_train, y_test = train_test_split(X, y, test_size=0.2 )"
      ]
    },
    {
      "cell_type": "markdown",
      "source": [
        "### CREATE DATA MODEL"
      ],
      "metadata": {
        "id": "blcQzwhhvbEI"
      }
    },
    {
      "cell_type": "code",
      "source": [
        "from sklearn.neighbors import KNeighborsClassifier # import the model\n",
        "\n",
        "model = KNeighborsClassifier() # initialize the model\n",
        "\n",
        "model.fit(X_train, y_train) # fit the model\n",
        "\n",
        "prediction_knn = model.predict(X_test) # predict using model on test dataset, as model has not seen this dataset yet"
      ],
      "metadata": {
        "id": "Y5Slu_jCvd_C"
      },
      "execution_count": 28,
      "outputs": []
    },
    {
      "cell_type": "code",
      "source": [
        "from sklearn.metrics import accuracy_score\n",
        "\n",
        "accuracy_score(y_test, prediction_knn)"
      ],
      "metadata": {
        "colab": {
          "base_uri": "https://localhost:8080/"
        },
        "id": "2eTNVOTSv-W3",
        "outputId": "c68dbb4d-f9d7-410e-be78-129e5c07ae98"
      },
      "execution_count": 29,
      "outputs": [
        {
          "output_type": "execute_result",
          "data": {
            "text/plain": [
              "0.664804469273743"
            ]
          },
          "metadata": {},
          "execution_count": 29
        }
      ]
    },
    {
      "cell_type": "code",
      "source": [
        "from sklearn.metrics import confusion_matrix\n",
        "\n",
        "cm = confusion_matrix(y_test, prediction_knn)\n",
        "print(cm)"
      ],
      "metadata": {
        "colab": {
          "base_uri": "https://localhost:8080/"
        },
        "id": "gDvzKse9x0bs",
        "outputId": "fb07e225-177e-44d1-8941-45397fbce058"
      },
      "execution_count": 30,
      "outputs": [
        {
          "output_type": "stream",
          "name": "stdout",
          "text": [
            "[[85 33]\n",
            " [27 34]]\n"
          ]
        }
      ]
    },
    {
      "cell_type": "code",
      "source": [
        "import seaborn as sns\n",
        "import matplotlib.pyplot as plt\n",
        "\n",
        "# visualize a heatmap using seaborn library\n",
        "\n",
        "sns.heatmap(cm, annot=True, cmap='rainbow', alpha=0.8, fmt='g')\n",
        "plt.title('Confusion Matrix Heatmap')\n",
        "plt.xlabel('Predicted')\n",
        "plt.ylabel('True')\n",
        "plt.show()"
      ],
      "metadata": {
        "colab": {
          "base_uri": "https://localhost:8080/",
          "height": 472
        },
        "id": "W1Dkf03Mzd8s",
        "outputId": "910ff029-f3fb-4890-d94e-e4e1bb6c3c3d"
      },
      "execution_count": 31,
      "outputs": [
        {
          "output_type": "display_data",
          "data": {
            "text/plain": [
              "<Figure size 640x480 with 2 Axes>"
            ],
            "image/png": "[encoded data removed]"
          },
          "metadata": {}
        }
      ]
    },
    {
      "cell_type": "markdown",
      "source": [
        "# TEAMWORK\n",
        "\n",
        "## Look at what is Central Limit Theorem and try to prove/ visualize it using NumPy"
      ],
      "metadata": {
        "id": "wRir3qI17F1E"
      }
    },
    {
      "cell_type": "code",
      "source": [
        "import numpy as np\n",
        "import matplotlib.pyplot as plt\n",
        "\n"
      ],
      "metadata": {
        "id": "lRmJofMB7MWA"
      },
      "execution_count": 33,
      "outputs": []
    },
    {
      "cell_type": "markdown",
      "source": [
        "### Simple Example, imagine rolling a die:\n",
        "\n",
        "The result of rolling one die is uniformly distributed (all outcomes have equal chances).\n",
        "If you roll the die, say, 10 times and average the results, the average will likely be closer to the true average (which is 3.5).\n",
        "As you increase the number of rolls and calculate averages, these averages will start looking like a bell curve."
      ],
      "metadata": {
        "id": "K-4c26SJ7gi4"
      }
    },
    {
      "cell_type": "code",
      "source": [
        "averages = []\n",
        "for i in range(1000):\n",
        "  rolls = np.random.randint(1, 7, 1000000)\n",
        "  average = np.mean(rolls)\n",
        "  averages.append(average)\n"
      ],
      "metadata": {
        "id": "AelS3su57ixI"
      },
      "execution_count": 59,
      "outputs": []
    },
    {
      "cell_type": "code",
      "source": [
        "# vizulaize using np bell curve\n",
        "plt.hist(averages, color='navy', edgecolor='b')\n",
        "plt.title('Central Limit Theorem of Rolling a Dice')\n",
        "plt.xlabel('Average number per n dice rolls')\n",
        "plt.ylabel('Frequency')\n",
        "plt.show()"
      ],
      "metadata": {
        "colab": {
          "base_uri": "https://localhost:8080/",
          "height": 472
        },
        "id": "rNIoQL_w8AvW",
        "outputId": "bd301b09-a415-4d6a-9d1f-04092f1427d2"
      },
      "execution_count": 62,
      "outputs": [
        {
          "output_type": "display_data",
          "data": {
            "text/plain": [
              "<Figure size 640x480 with 1 Axes>"
            ],
            "image/png": "[encoded data removed]"
          },
          "metadata": {}
        }
      ]
    }
  ],
  "metadata": {
    "colab": {
      "provenance": [],
      "include_colab_link": true
    },
    "kernelspec": {
      "display_name": "Python 3",
      "name": "python3"
    },
    "language_info": {
      "codemirror_mode": {
        "name": "ipython",
        "version": 3
      },
      "file_extension": ".py",
      "mimetype": "text/x-python",
      "name": "python",
      "nbconvert_exporter": "python",
      "pygments_lexer": "ipython3",
      "version": "3.9.6"
    }
  },
  "nbformat": 4,
  "nbformat_minor": 0
}